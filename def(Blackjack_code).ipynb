{
 "cells": [
  {
   "cell_type": "code",
   "execution_count": null,
   "id": "420d1d9d",
   "metadata": {},
   "outputs": [],
   "source": [
    "#### BLACKJACK: Given three integers between 1 and 11, if their sum is less than or equal to 21, return their sum. If their sum exceeds 21 *and* there's an eleven, reduce the total sum by 10. Finally, if the sum (even after adjustment) exceeds 21, return 'BUST'\n",
    "    blackjack(5,6,7) --> 18\n",
    "    blackjack(9,9,9) --> 'BUST'\n",
    "    blackjack(9,9,11) --> 19"
   ]
  },
  {
   "cell_type": "code",
   "execution_count": null,
   "id": "5d3ab99f",
   "metadata": {},
   "outputs": [],
   "source": [
    "def blackjack(a,b,c):\n",
    "    d = a+b+c\n",
    "    e = d-10\n",
    "    if d<=21:\n",
    "        return d\n",
    "    if d>=21 and a==11:\n",
    "        if e<=21:\n",
    "            return e\n",
    "    if d>=21 and b==11:\n",
    "        if e<=21:\n",
    "            return e\n",
    "    if d>=21 and c==11:\n",
    "        if e<=21:\n",
    "            return e\n",
    "                      \n",
    "    if d>=21 and a==11:\n",
    "        if e>=21:\n",
    "            return 'Bust'\n",
    "    if d>=21 and b==11:\n",
    "        if e>=21:\n",
    "            return 'Bust'\n",
    "    if d>=21 and c==11:\n",
    "        if e>=21:\n",
    "            return 'Bust'                  \n",
    "    if d>=21:\n",
    "        if b==11:\n",
    "            return d-10\n",
    "    if d>=21:\n",
    "        if c==11:\n",
    "            return d-10\n",
    "    if d>21:\n",
    "        return 'bust'"
   ]
  },
  {
   "cell_type": "code",
   "execution_count": null,
   "id": "cd2326fe",
   "metadata": {},
   "outputs": [],
   "source": []
  }
 ],
 "metadata": {
  "kernelspec": {
   "display_name": "Python 3 (ipykernel)",
   "language": "python",
   "name": "python3"
  },
  "language_info": {
   "codemirror_mode": {
    "name": "ipython",
    "version": 3
   },
   "file_extension": ".py",
   "mimetype": "text/x-python",
   "name": "python",
   "nbconvert_exporter": "python",
   "pygments_lexer": "ipython3",
   "version": "3.9.7"
  }
 },
 "nbformat": 4,
 "nbformat_minor": 5
}
