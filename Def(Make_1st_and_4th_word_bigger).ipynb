{
 "cells": [
  {
   "cell_type": "code",
   "execution_count": null,
   "id": "1987ba2e",
   "metadata": {},
   "outputs": [],
   "source": [
    " Write a function that capitalizes the first and fourth letters of a name\n",
    "old_macdonald('macdonald') --> MacDonald\n",
    "Note: 'macdonald'.capitalize() returns 'Macdonald'"
   ]
  },
  {
   "cell_type": "code",
   "execution_count": null,
   "id": "b34b44da",
   "metadata": {},
   "outputs": [],
   "source": [
    "def old_macdonald(name):\n",
    "        if len(name)>1:\n",
    "            return name[:3].capitalize() + name[3:].capitalize()\n",
    "        else:\n",
    "            return 'error 404 not found!'"
   ]
  }
 ],
 "metadata": {
  "kernelspec": {
   "display_name": "Python 3 (ipykernel)",
   "language": "python",
   "name": "python3"
  },
  "language_info": {
   "codemirror_mode": {
    "name": "ipython",
    "version": 3
   },
   "file_extension": ".py",
   "mimetype": "text/x-python",
   "name": "python",
   "nbconvert_exporter": "python",
   "pygments_lexer": "ipython3",
   "version": "3.9.7"
  }
 },
 "nbformat": 4,
 "nbformat_minor": 5
}
