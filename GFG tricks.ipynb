{
 "cells": [
  {
   "cell_type": "code",
   "execution_count": 1,
   "id": "47eb3d21",
   "metadata": {},
   "outputs": [],
   "source": [
    "#Swap values\n",
    "x =1\n",
    "y = 5\n",
    "x,y = y,x"
   ]
  },
  {
   "cell_type": "code",
   "execution_count": 2,
   "id": "440a3525",
   "metadata": {},
   "outputs": [
    {
     "data": {
      "text/plain": [
       "1"
      ]
     },
     "execution_count": 2,
     "metadata": {},
     "output_type": "execute_result"
    }
   ],
   "source": [
    "y"
   ]
  },
  {
   "cell_type": "code",
   "execution_count": 3,
   "id": "8c778f5c",
   "metadata": {},
   "outputs": [
    {
     "data": {
      "text/plain": [
       "5"
      ]
     },
     "execution_count": 3,
     "metadata": {},
     "output_type": "execute_result"
    }
   ],
   "source": [
    "x"
   ]
  },
  {
   "cell_type": "code",
   "execution_count": 5,
   "id": "e4065187",
   "metadata": {},
   "outputs": [],
   "source": [
    "#zip\n",
    "l = ('abc','sd','ds','d')\n",
    "a = (3,2,2,1)"
   ]
  },
  {
   "cell_type": "code",
   "execution_count": 12,
   "id": "15ba6f9f",
   "metadata": {},
   "outputs": [
    {
     "data": {
      "text/plain": [
       "[('abc', 3), ('sd', 2), ('ds', 2), ('d', 1)]"
      ]
     },
     "execution_count": 12,
     "metadata": {},
     "output_type": "execute_result"
    }
   ],
   "source": [
    "list(zip(l,a))"
   ]
  },
  {
   "cell_type": "code",
   "execution_count": 14,
   "id": "33b428ae",
   "metadata": {},
   "outputs": [
    {
     "name": "stdout",
     "output_type": "stream",
     "text": [
      "(3, 'abc')\n",
      "(2, 'sd')\n",
      "(2, 'ds')\n",
      "(1, 'd')\n"
     ]
    }
   ],
   "source": [
    "for item in zip(a,l):\n",
    "    print(item)"
   ]
  },
  {
   "cell_type": "code",
   "execution_count": null,
   "id": "aa27c91b",
   "metadata": {
    "scrolled": true
   },
   "outputs": [],
   "source": [
    "#taking two inputs\n",
    "\n",
    "name,age = input('Enter you name and age :').split()\n",
    "print(f\"your name is {name}\")\n",
    "print(f'your age is {age}')"
   ]
  },
  {
   "cell_type": "code",
   "execution_count": 41,
   "id": "2e15e501",
   "metadata": {},
   "outputs": [
    {
     "data": {
      "text/plain": [
       "[4, 34, 44, 56, 66]"
      ]
     },
     "execution_count": 41,
     "metadata": {},
     "output_type": "execute_result"
    }
   ],
   "source": [
    "a = [34,56,66,44,4]\n",
    "a.sort()\n",
    "a"
   ]
  },
  {
   "cell_type": "code",
   "execution_count": 60,
   "id": "62853613",
   "metadata": {},
   "outputs": [
    {
     "name": "stdout",
     "output_type": "stream",
     "text": [
      "H\te\tl\tl\to\n",
      "H       e       l       l       o\n",
      "H e l l o\n",
      "H   e   l   l   o\n",
      "H         e         l         l         o\n"
     ]
    }
   ],
   "source": [
    "#capitalize, lower,upper,find\n",
    "ba = (\"whaac DJDAN dijdidDdjdjd\") \n",
    "txt = \"H\\te\\tl\\tl\\to\"\n",
    "\n",
    "print(txt)\n",
    "print(txt.expandtabs())\n",
    "print(txt.expandtabs(2))\n",
    "print(txt.expandtabs(4))\n",
    "print(txt.expandtabs(10))\n",
    "\n"
   ]
  },
  {
   "cell_type": "code",
   "execution_count": 78,
   "id": "39fb9ef9",
   "metadata": {},
   "outputs": [
    {
     "name": "stdout",
     "output_type": "stream",
     "text": [
      "John+Peter+Vicky\n"
     ]
    }
   ],
   "source": [
    "#join function\n",
    "myTuple = (\"John\", \"Peter\", \"Vicky\")\n",
    "print('+'.join(myTuple))\n"
   ]
  },
  {
   "cell_type": "code",
   "execution_count": 76,
   "id": "49451c37",
   "metadata": {},
   "outputs": [
    {
     "data": {
      "text/plain": [
       "'rehte kilativ'"
      ]
     },
     "execution_count": 76,
     "metadata": {},
     "output_type": "execute_result"
    }
   ],
   "source": [
    "#reverse\n",
    "a = ('vitalik ether')\n",
    "a[::-1]"
   ]
  },
  {
   "cell_type": "code",
   "execution_count": 79,
   "id": "61fd6ffa",
   "metadata": {},
   "outputs": [
    {
     "name": "stdout",
     "output_type": "stream",
     "text": [
      "True\n",
      "False\n"
     ]
    }
   ],
   "source": [
    "n = 10\n",
    "result = 1 < n < 20\n",
    "print(result)\n",
    "result = 1 > n <= 9\n",
    "print(result)"
   ]
  },
  {
   "cell_type": "code",
   "execution_count": 81,
   "id": "14bc6c8e",
   "metadata": {},
   "outputs": [
    {
     "name": "stdout",
     "output_type": "stream",
     "text": [
      "1\n"
     ]
    }
   ],
   "source": [
    "test = [1, 2, 3, 4, 2, 2, 3, 1, 4, 4, 4]\n",
    "print(min(set(test), key = test.count))\n"
   ]
  },
  {
   "cell_type": "code",
   "execution_count": 82,
   "id": "53a773ed",
   "metadata": {},
   "outputs": [],
   "source": [
    "#Storing Values of list in new variable\n",
    "x = [45,67,95,4]\n",
    "a,b,c,d = x"
   ]
  },
  {
   "cell_type": "code",
   "execution_count": 83,
   "id": "9830e19c",
   "metadata": {},
   "outputs": [
    {
     "data": {
      "text/plain": [
       "45"
      ]
     },
     "execution_count": 83,
     "metadata": {},
     "output_type": "execute_result"
    }
   ],
   "source": [
    "a"
   ]
  },
  {
   "cell_type": "code",
   "execution_count": 84,
   "id": "351a33d0",
   "metadata": {},
   "outputs": [
    {
     "data": {
      "text/plain": [
       "67"
      ]
     },
     "execution_count": 84,
     "metadata": {},
     "output_type": "execute_result"
    }
   ],
   "source": [
    "b"
   ]
  },
  {
   "cell_type": "code",
   "execution_count": 85,
   "id": "3667c98c",
   "metadata": {},
   "outputs": [
    {
     "data": {
      "text/plain": [
       "4"
      ]
     },
     "execution_count": 85,
     "metadata": {},
     "output_type": "execute_result"
    }
   ],
   "source": [
    "d"
   ]
  },
  {
   "cell_type": "code",
   "execution_count": 6,
   "id": "3e5cf0dc",
   "metadata": {},
   "outputs": [
    {
     "data": {
      "text/plain": [
       "<function __main__.myfunc.<locals>.<lambda>(a)>"
      ]
     },
     "execution_count": 6,
     "metadata": {},
     "output_type": "execute_result"
    }
   ],
   "source": [
    "def myfunc(n):\n",
    "  return lambda a : a * n\n",
    "myfunc(3)"
   ]
  },
  {
   "cell_type": "code",
   "execution_count": 5,
   "id": "39f2b6bb",
   "metadata": {},
   "outputs": [
    {
     "data": {
      "text/plain": [
       "<function __main__.myfunc.<locals>.<lambda>(a)>"
      ]
     },
     "execution_count": 5,
     "metadata": {},
     "output_type": "execute_result"
    }
   ],
   "source": [
    "myfunc(3)"
   ]
  },
  {
   "cell_type": "code",
   "execution_count": null,
   "id": "8e730d25",
   "metadata": {},
   "outputs": [],
   "source": []
  }
 ],
 "metadata": {
  "kernelspec": {
   "display_name": "Python 3 (ipykernel)",
   "language": "python",
   "name": "python3"
  },
  "language_info": {
   "codemirror_mode": {
    "name": "ipython",
    "version": 3
   },
   "file_extension": ".py",
   "mimetype": "text/x-python",
   "name": "python",
   "nbconvert_exporter": "python",
   "pygments_lexer": "ipython3",
   "version": "3.9.7"
  }
 },
 "nbformat": 4,
 "nbformat_minor": 5
}
