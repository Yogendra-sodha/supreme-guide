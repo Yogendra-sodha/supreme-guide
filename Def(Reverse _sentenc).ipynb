{
 "cells": [
  {
   "cell_type": "code",
   "execution_count": null,
   "id": "ad728f81",
   "metadata": {},
   "outputs": [],
   "source": [
    "Given a sentence, return a sentence with the words reversed\n",
    "master_yoda('I am small') --> 'small am I'\n",
    "master_yoda('We are big') --> 'big are We'"
   ]
  },
  {
   "cell_type": "code",
   "execution_count": null,
   "id": "b734c629",
   "metadata": {},
   "outputs": [],
   "source": [
    "def master_yoda(text):\n",
    "    a = (text).split()\n",
    "    b = a[::-1]\n",
    "    c = \" \".join(b)\n",
    "    return c\n",
    "    pass"
   ]
  }
 ],
 "metadata": {
  "kernelspec": {
   "display_name": "Python 3 (ipykernel)",
   "language": "python",
   "name": "python3"
  },
  "language_info": {
   "codemirror_mode": {
    "name": "ipython",
    "version": 3
   },
   "file_extension": ".py",
   "mimetype": "text/x-python",
   "name": "python",
   "nbconvert_exporter": "python",
   "pygments_lexer": "ipython3",
   "version": "3.9.7"
  }
 },
 "nbformat": 4,
 "nbformat_minor": 5
}
